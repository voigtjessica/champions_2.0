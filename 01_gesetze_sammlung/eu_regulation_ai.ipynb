{
 "cells": [
  {
   "cell_type": "markdown",
   "metadata": {},
   "source": [
    "# Regulation of AI"
   ]
  },
  {
   "cell_type": "code",
   "execution_count": 1,
   "metadata": {},
   "outputs": [],
   "source": [
    "import requests \n",
    "from bs4 import BeautifulSoup \n",
    "import pandas as pd\n",
    "import numpy as np\n",
    "import unicodedata\n",
    "import re"
   ]
  },
  {
   "cell_type": "code",
   "execution_count": 2,
   "metadata": {},
   "outputs": [],
   "source": [
    "URL = 'https://eur-lex.europa.eu/legal-content/DE/TXT/?uri=CELEX:52021PC0206'\n",
    "law = \"gesetz_ueber_ki\"\n",
    "r = requests.get(URL) \n",
    "soup = BeautifulSoup(r.content, 'html5lib') "
   ]
  },
  {
   "cell_type": "code",
   "execution_count": 3,
   "metadata": {},
   "outputs": [],
   "source": [
    "# print(soup.prettify)\n",
    "table = soup.findAll('div', attrs = {'class':'content'})"
   ]
  },
  {
   "cell_type": "code",
   "execution_count": 4,
   "metadata": {},
   "outputs": [],
   "source": [
    "#table[12] # Comeca no Table 12\n",
    "\n",
    "#Essa estrutura nao segue a lógica da lei, mas uma lógica completamente diferente. Vou ter que fazer pelo texto:\n",
    "\n",
    "texto = []\n",
    "\n",
    "for i in range(12, len(table)):             #comeca do 12 porque eu cheguei que a lei mesmo comeca no 12\n",
    "    x = table[i].get_text(strip=True)       # tenho que colocar essa condicao para ele tratar como uma str normal / depois nem assim eu conseguia\n",
    "    x = unicodedata.normalize('NFKD', x)    # removind \\xa0\n",
    "    texto.append(x)\n",
    "\n",
    "texto = ' '.join(texto) # convertendo a lista em uma string, contendo a lei inteira\n",
    "\n",
    "\n"
   ]
  },
  {
   "cell_type": "code",
   "execution_count": 7,
   "metadata": {},
   "outputs": [],
   "source": [
    "#tirando tudo o que nao é lei: a partir de \"Geschehen zu Brüssel am.\"\n",
    "texto = re.sub('Geschehen zu Brüssel am.*', '', texto)"
   ]
  },
  {
   "cell_type": "code",
   "execution_count": null,
   "metadata": {},
   "outputs": [],
   "source": [
    "a = 'Artikel '\n",
    "\n",
    "# While você achar o art\n",
    "# pegue tudo entre art e art_next\n",
    "# coloque na tabela\n",
    "# remova essa parte do texto\n",
    "# siga para o próximo\n",
    "\n",
    "artigos = []\n",
    "\n",
    "\n",
    "for i in range(1,6):\n",
    "    sub1 = a + str(i)\n",
    "    sub2 = a + str(i+1)\n",
    "    t = texto\n",
    "    if sub1 in t:\n",
    "            if sub2 in t:\n",
    "                # replaces in the copy from the text\n",
    "                 \n",
    "                t = t.replace(sub1,\"*\") \n",
    "                t = t.replace(sub2,\"*\")\n",
    "                re=t.split(\"*\")\n",
    "                res=re[1]            \n",
    "            else:\n",
    "                t = t.replace(sub1,\"*\")  \n",
    "                re=t.split(\"*\")\n",
    "                res=re[1]\n",
    "            \n",
    "            artigos.append(res)\n",
    "        "
   ]
  },
  {
   "cell_type": "code",
   "execution_count": null,
   "metadata": {},
   "outputs": [],
   "source": [
    "texto"
   ]
  }
 ],
 "metadata": {
  "kernelspec": {
   "display_name": "Python 3.10.7 64-bit",
   "language": "python",
   "name": "python3"
  },
  "language_info": {
   "codemirror_mode": {
    "name": "ipython",
    "version": 3
   },
   "file_extension": ".py",
   "mimetype": "text/x-python",
   "name": "python",
   "nbconvert_exporter": "python",
   "pygments_lexer": "ipython3",
   "version": "3.10.7"
  },
  "orig_nbformat": 4,
  "vscode": {
   "interpreter": {
    "hash": "369f2c481f4da34e4445cda3fffd2e751bd1c4d706f27375911949ba6bb62e1c"
   }
  }
 },
 "nbformat": 4,
 "nbformat_minor": 2
}
