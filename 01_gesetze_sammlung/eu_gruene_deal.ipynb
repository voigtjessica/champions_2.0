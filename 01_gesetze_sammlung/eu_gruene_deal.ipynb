{
 "cells": [
  {
   "cell_type": "markdown",
   "metadata": {},
   "source": [
    "# europäische Grüne Deal\n",
    "\n",
    "I'm going to fetch the official green deal communication in german:\n"
   ]
  },
  {
   "cell_type": "code",
   "execution_count": 1,
   "metadata": {},
   "outputs": [],
   "source": [
    "import requests \n",
    "from bs4 import BeautifulSoup \n",
    "import pandas as pd\n",
    "import numpy as np\n",
    "import unicodedata\n",
    "import re"
   ]
  },
  {
   "cell_type": "code",
   "execution_count": 2,
   "metadata": {},
   "outputs": [],
   "source": [
    "URL = \"https://eur-lex.europa.eu/legal-content/DE/TXT/HTML/?uri=CELEX:52019DC0640&from=EN\"\n",
    "law = \"Europäisches Klimagesetz\"\n",
    "r = requests.get(URL) \n",
    "soup = BeautifulSoup(r.content, 'html5lib') "
   ]
  },
  {
   "cell_type": "markdown",
   "metadata": {},
   "source": [
    "In the Eu Communication, starting at \"Abbildung1: der Europäische Grüne Deal\", all the paragraphs are one different topic, so each one of these paragraphs will be one different document.\n",
    "I'm consiously removing the \"p.text2\" tags, which are quotes and getting P.normal and P.Question"
   ]
  },
  {
   "cell_type": "code",
   "execution_count": 3,
   "metadata": {},
   "outputs": [],
   "source": [
    "table = soup.findAll('p', attrs = {'class':'Normal'})\n",
    "table2 = soup.findAll('p', attrs = {'class':'Question'})\n",
    "\n",
    "#juntando os paragrafos que estavam como normal e os que estavam como question:\n",
    "\n",
    "for i in table2:\n",
    "    table.append(i)\n",
    "\n",
    "df_com = pd.DataFrame(columns = ['original_id','gesetzt', 'artikel', 'absatz', 'text'])\n",
    "\n",
    "for element in table:\n",
    "    text = element.get_text()\n",
    "    text = unicodedata.normalize('NFKD', text)   # removind \\xa0\n",
    "    re.sub(\"\\n\", \" \", text)\n",
    "    re.sub(\"\\s{1,}\", \" \", text)\n",
    "    df_temp = pd.DataFrame({'original_id' : [\"NA\"],\n",
    "                            'gesetzt': [\"eu_gruene_deal_com\"],\n",
    "                            'artikel': [\"NA\"], \n",
    "                            'absatz' : [\"NA\"],\n",
    "                            'text': [text]})\n",
    "    df_com = pd.concat([df_com, df_temp])\n",
    "\n",
    "#Vou primeiro criar um index na mao para esse db:\n",
    "\n",
    "index = pd.Index(range(0,len(df_com)))\n",
    "df_com = df_com.set_index(index)"
   ]
  },
  {
   "cell_type": "markdown",
   "metadata": {},
   "source": [
    "tentei tirar os metacharacters de tudo quanto é jeito mas nao deu. O jeito é move on e esperar que isso nao interfira no meu TM"
   ]
  },
  {
   "cell_type": "code",
   "execution_count": 4,
   "metadata": {},
   "outputs": [],
   "source": [
    "retirar = list(range(95,89, -1)) + list(range(8,-1, -1))   # eu fiz o loop ao contrário só por precaucao, mas os indices nao se modificam quando um item é dropado.\n",
    "\n",
    "for i in retirar:      # reverse loop\n",
    "    df_com.drop(i, axis=0, inplace=True)"
   ]
  },
  {
   "cell_type": "code",
   "execution_count": 5,
   "metadata": {},
   "outputs": [],
   "source": [
    "#Salvando o banco com esse artigo:\n",
    "\n",
    "df_com.to_csv(\"eu_gruene_deal_com.csv\")"
   ]
  }
 ],
 "metadata": {
  "kernelspec": {
   "display_name": "Python 3.10.7 64-bit",
   "language": "python",
   "name": "python3"
  },
  "language_info": {
   "codemirror_mode": {
    "name": "ipython",
    "version": 3
   },
   "file_extension": ".py",
   "mimetype": "text/x-python",
   "name": "python",
   "nbconvert_exporter": "python",
   "pygments_lexer": "ipython3",
   "version": "3.10.7 (tags/v3.10.7:6cc6b13, Sep  5 2022, 14:08:36) [MSC v.1933 64 bit (AMD64)]"
  },
  "orig_nbformat": 4,
  "vscode": {
   "interpreter": {
    "hash": "369f2c481f4da34e4445cda3fffd2e751bd1c4d706f27375911949ba6bb62e1c"
   }
  }
 },
 "nbformat": 4,
 "nbformat_minor": 2
}
