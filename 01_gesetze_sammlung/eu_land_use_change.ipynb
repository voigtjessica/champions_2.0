{
 "cells": [
  {
   "cell_type": "markdown",
   "metadata": {},
   "source": [
    "# Clima NEutrality Land Use"
   ]
  },
  {
   "cell_type": "code",
   "execution_count": 19,
   "metadata": {},
   "outputs": [],
   "source": [
    "import pandas as pd\n",
    "import re\n",
    "import os"
   ]
  },
  {
   "cell_type": "code",
   "execution_count": 7,
   "metadata": {},
   "outputs": [],
   "source": [
    "# Esse eu to fazendo \"na mao\" porque vai dar muito trabalho\n",
    "# URL = https://eur-lex.europa.eu/legal-content/EN/TXT/HTML/?uri=CELEX:52021PC0554&from=EN\n",
    "\n",
    "\n",
    "# Abre o arquivo de bloco de notas\n",
    "with open('C:/Users/JVoigt/OneDrive - Universität für Weiterbildung Krems/Dokumente/Python Scripts/champI4.0ns/gesetze_pdf/land_use_art1.txt', 'r', encoding='utf-8') as f:\n",
    "    # Lê o conteúdo do arquivo\n",
    "    art1 = f.read()\n",
    "\n",
    "# Remove todos os espaços e quebras de linha do texto\n",
    "art1 = re.sub(r'\\s+', ' ', art1)\n",
    "\n",
    "\n",
    "with open('C:/Users/JVoigt/OneDrive - Universität für Weiterbildung Krems/Dokumente/Python Scripts/champI4.0ns/gesetze_pdf/land_use_art2.txt', 'r', encoding='utf-8') as f:\n",
    "    # Lê o conteúdo do arquivo\n",
    "    art2 = f.read()\n",
    "\n",
    "art2 = re.sub(r'\\s+', ' ', art2)\n",
    "\n",
    "with open('C:/Users/JVoigt/OneDrive - Universität für Weiterbildung Krems/Dokumente/Python Scripts/champI4.0ns/gesetze_pdf/land_use_art3.txt', 'r', encoding='utf-8') as f:\n",
    "    # Lê o conteúdo do arquivo\n",
    "    art3 = f.read()\n",
    "\n",
    "art3 = re.sub(r'\\s+', ' ', art3)"
   ]
  },
  {
   "cell_type": "code",
   "execution_count": 16,
   "metadata": {},
   "outputs": [],
   "source": [
    "arts = [art1, art2, art3]\n",
    "gesetzt = ['eu_land_use_change', 'eu_land_use_change', 'eu_land_use_change']\n",
    "artikel = ['001', '002', '003']\n",
    "absatz = ['NA', 'NA', 'NA']\n",
    "\n",
    "df_law = pd.DataFrame({'original_id' : absatz,\n",
    "                       'gesetzt': gesetzt,\n",
    "                       'artikel': artikel, \n",
    "                       'absatz' : absatz,\n",
    "                       'text': arts})\n"
   ]
  },
  {
   "cell_type": "code",
   "execution_count": 20,
   "metadata": {},
   "outputs": [],
   "source": [
    "os.chdir('C:/Users/JVoigt/OneDrive - Universität für Weiterbildung Krems/Dokumente/Python Scripts/champI4.0ns/gesetze_sammlung')\n",
    "df_law.to_csv('eu_land_use_change.csv')"
   ]
  }
 ],
 "metadata": {
  "kernelspec": {
   "display_name": "Python 3",
   "language": "python",
   "name": "python3"
  },
  "language_info": {
   "codemirror_mode": {
    "name": "ipython",
    "version": 3
   },
   "file_extension": ".py",
   "mimetype": "text/x-python",
   "name": "python",
   "nbconvert_exporter": "python",
   "pygments_lexer": "ipython3",
   "version": "3.10.7 (tags/v3.10.7:6cc6b13, Sep  5 2022, 14:08:36) [MSC v.1933 64 bit (AMD64)]"
  },
  "orig_nbformat": 4,
  "vscode": {
   "interpreter": {
    "hash": "369f2c481f4da34e4445cda3fffd2e751bd1c4d706f27375911949ba6bb62e1c"
   }
  }
 },
 "nbformat": 4,
 "nbformat_minor": 2
}
