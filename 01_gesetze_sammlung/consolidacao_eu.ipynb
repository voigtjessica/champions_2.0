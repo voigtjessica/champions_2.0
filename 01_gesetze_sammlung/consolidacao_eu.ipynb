{
 "cells": [
  {
   "cell_type": "markdown",
   "metadata": {},
   "source": [
    "# Consolidacao EU"
   ]
  },
  {
   "cell_type": "code",
   "execution_count": 8,
   "metadata": {},
   "outputs": [],
   "source": [
    "import os\n",
    "import glob\n",
    "import pandas as pd\n",
    "import re"
   ]
  },
  {
   "cell_type": "code",
   "execution_count": 1,
   "metadata": {},
   "outputs": [],
   "source": [
    "def import_csv_files(folder):\n",
    "    # Obtém uma lista de todos os arquivos CSV na pasta\n",
    "    csv_files = glob.glob(os.path.join(folder, \"*.csv\"))\n",
    "\n",
    "    df_list = []\n",
    "    # Itera por cada arquivo na lista e o importa como um dataframe\n",
    "    for file in csv_files:\n",
    "        # Obtém o nome do arquivo\n",
    "        file_name = os.path.split(file)[1]\n",
    "        print(f\"Importing file: {file_name}\")\n",
    "        df = pd.read_csv(file)\n",
    "        # Imprime a primeira linha do dataframe\n",
    "        print(df.head(1))\n",
    "        df_list.append(df)\n",
    "\n",
    "    # Concatena todos os dataframes em um único dataframe\n",
    "    final_df = pd.concat(df_list, ignore_index=True)\n",
    "    return final_df\n",
    "\n"
   ]
  },
  {
   "cell_type": "code",
   "execution_count": 3,
   "metadata": {},
   "outputs": [
    {
     "name": "stdout",
     "output_type": "stream",
     "text": [
      "Importing file: df_eu_law.csv\n",
      "   Unnamed: 0                     gesetzt  artikel  absatz  \\\n",
      "0           0  Daten-Governance-Rechtsakt       13     1.0   \n",
      "\n",
      "                                                text  \n",
      "0  (1) Jeder Mitgliedstaat benennt eine oder mehr...  \n",
      "Importing file: eu_cybersicherheitsstrategie.csv\n",
      "   Unnamed: 0  original_id             gesetzt  artikel  absatz  \\\n",
      "0           0          NaN  eu_gruene_deal_com      NaN     NaN   \n",
      "\n",
      "                                                text  \n",
      "0   Cybersicherheit ist ein integraler Bestandtei...  \n",
      "Importing file: eu_data_act.csv\n",
      "   Unnamed: 0   gesetzt  artikel  absatz  \\\n",
      "0           0  Data Act        1     1.0   \n",
      "\n",
      "                                                text  \n",
      "0  Diese Verordnung enthält harmonisierte Vorschr...  \n",
      "Importing file: eu_digital_markets_act.csv\n",
      "   Unnamed: 0  original_id                 gesetzt  artikel  absatz  \\\n",
      "0           0       10.005  eu_digital_markets_act       10     5.0   \n",
      "\n",
      "                                                text  \n",
      "0  (5) Bei der Prüfung eines Antrags nach den Ab...  \n",
      "Importing file: eu_gruene_deal_com.csv\n",
      "   Unnamed: 0  original_id             gesetzt  artikel  absatz  \\\n",
      "0           9          NaN  eu_gruene_deal_com      NaN     NaN   \n",
      "\n",
      "                                                text  \n",
      "0  \\n               Die Kommission hat bereits ei...  \n",
      "Importing file: eu_horizon.csv\n",
      "   Unnamed: 0  original_id     gesetzt  artikel  absatz  \\\n",
      "0           0       22.006  eu_horizon       22     6.0   \n",
      "\n",
      "                                                text  \n",
      "0  (6) Soweit erforderlich und hinreichend begrü...  \n",
      "Importing file: eu_klimagesetz.csv\n",
      "   Unnamed: 0  index  original_id                   gesetzt  artikel  absatz  \\\n",
      "0           0      0          1.0  Europäisches Klimagesetz        1     NaN   \n",
      "\n",
      "                                                text  \n",
      "0  Artikel 1 Gegenstand und Anwendungsbereich Mit...  \n",
      "Importing file: eu_land_use_change.csv\n",
      "   Unnamed: 0  original_id             gesetzt  artikel  absatz  \\\n",
      "0           0          NaN  eu_land_use_change        1     NaN   \n",
      "\n",
      "                                                text  \n",
      "0   Die Verordnung (EU) 2018/841 wird wie folgt g...  \n",
      "Importing file: eu_timber_regulation.csv\n",
      "   Unnamed: 0  original_id               gesetzt  artikel  absatz  \\\n",
      "0           0          NaN  eu_timber_regulation        1     NaN   \n",
      "\n",
      "                                                text  \n",
      "0  GegenstandIn dieser Verordnung sind die Verpfl...  \n"
     ]
    }
   ],
   "source": [
    "folder = 'C:/Users/JVoigt/OneDrive - Universität für Weiterbildung Krems/Dokumente/Python Scripts/champI4.0ns/gesetze_sammlung'\n",
    "df = import_csv_files(folder)"
   ]
  },
  {
   "cell_type": "code",
   "execution_count": null,
   "metadata": {},
   "outputs": [],
   "source": []
  },
  {
   "cell_type": "code",
   "execution_count": 11,
   "metadata": {},
   "outputs": [
    {
     "data": {
      "text/html": [
       "<div>\n",
       "<style scoped>\n",
       "    .dataframe tbody tr th:only-of-type {\n",
       "        vertical-align: middle;\n",
       "    }\n",
       "\n",
       "    .dataframe tbody tr th {\n",
       "        vertical-align: top;\n",
       "    }\n",
       "\n",
       "    .dataframe thead th {\n",
       "        text-align: right;\n",
       "    }\n",
       "</style>\n",
       "<table border=\"1\" class=\"dataframe\">\n",
       "  <thead>\n",
       "    <tr style=\"text-align: right;\">\n",
       "      <th></th>\n",
       "      <th>gesetzt</th>\n",
       "      <th>artikel</th>\n",
       "      <th>absatz</th>\n",
       "      <th>text</th>\n",
       "    </tr>\n",
       "  </thead>\n",
       "  <tbody>\n",
       "    <tr>\n",
       "      <th>0</th>\n",
       "      <td>eu_regulation_ai</td>\n",
       "      <td>1</td>\n",
       "      <td>NaN</td>\n",
       "      <td>Gegenstand In dieser Verordnung wird Folgendes...</td>\n",
       "    </tr>\n",
       "    <tr>\n",
       "      <th>1</th>\n",
       "      <td>eu_regulation_ai</td>\n",
       "      <td>2</td>\n",
       "      <td>1.0</td>\n",
       "      <td>(1) Diese Verordnung gilt für: a) Anbieter, di...</td>\n",
       "    </tr>\n",
       "    <tr>\n",
       "      <th>2</th>\n",
       "      <td>eu_regulation_ai</td>\n",
       "      <td>2</td>\n",
       "      <td>2.0</td>\n",
       "      <td>(2) Für Hochrisiko-KI-Systeme, die Sicherheits...</td>\n",
       "    </tr>\n",
       "    <tr>\n",
       "      <th>3</th>\n",
       "      <td>eu_regulation_ai</td>\n",
       "      <td>2</td>\n",
       "      <td>3.0</td>\n",
       "      <td>(3) Diese Verordnung gilt nicht für KI-Systeme...</td>\n",
       "    </tr>\n",
       "    <tr>\n",
       "      <th>4</th>\n",
       "      <td>eu_regulation_ai</td>\n",
       "      <td>2</td>\n",
       "      <td>4.0</td>\n",
       "      <td>(4) Diese Verordnung gilt weder für Behörden i...</td>\n",
       "    </tr>\n",
       "    <tr>\n",
       "      <th>...</th>\n",
       "      <td>...</td>\n",
       "      <td>...</td>\n",
       "      <td>...</td>\n",
       "      <td>...</td>\n",
       "    </tr>\n",
       "    <tr>\n",
       "      <th>284</th>\n",
       "      <td>eu_regulation_ai</td>\n",
       "      <td>84</td>\n",
       "      <td>6.0</td>\n",
       "      <td>(6) Bei den in den Absätzen 1 und 4 genannten ...</td>\n",
       "    </tr>\n",
       "    <tr>\n",
       "      <th>285</th>\n",
       "      <td>eu_regulation_ai</td>\n",
       "      <td>84</td>\n",
       "      <td>7.0</td>\n",
       "      <td>(7) Die Kommission legt erforderlichenfalls ge...</td>\n",
       "    </tr>\n",
       "    <tr>\n",
       "      <th>286</th>\n",
       "      <td>eu_regulation_ai</td>\n",
       "      <td>85</td>\n",
       "      <td>1.0</td>\n",
       "      <td>(1) Diese Verordnung tritt am zwanzigsten Tag ...</td>\n",
       "    </tr>\n",
       "    <tr>\n",
       "      <th>287</th>\n",
       "      <td>eu_regulation_ai</td>\n",
       "      <td>85</td>\n",
       "      <td>2.0</td>\n",
       "      <td>(2) Diese Verordnung gilt ab dem [24 Monate na...</td>\n",
       "    </tr>\n",
       "    <tr>\n",
       "      <th>288</th>\n",
       "      <td>eu_regulation_ai</td>\n",
       "      <td>85</td>\n",
       "      <td>3.0</td>\n",
       "      <td>(3) Abweichend von Absatz 2 gilt Folgendes: a)...</td>\n",
       "    </tr>\n",
       "  </tbody>\n",
       "</table>\n",
       "<p>289 rows × 4 columns</p>\n",
       "</div>"
      ],
      "text/plain": [
       "              gesetzt  artikel  absatz  \\\n",
       "0    eu_regulation_ai        1     NaN   \n",
       "1    eu_regulation_ai        2     1.0   \n",
       "2    eu_regulation_ai        2     2.0   \n",
       "3    eu_regulation_ai        2     3.0   \n",
       "4    eu_regulation_ai        2     4.0   \n",
       "..                ...      ...     ...   \n",
       "284  eu_regulation_ai       84     6.0   \n",
       "285  eu_regulation_ai       84     7.0   \n",
       "286  eu_regulation_ai       85     1.0   \n",
       "287  eu_regulation_ai       85     2.0   \n",
       "288  eu_regulation_ai       85     3.0   \n",
       "\n",
       "                                                  text  \n",
       "0    Gegenstand In dieser Verordnung wird Folgendes...  \n",
       "1    (1) Diese Verordnung gilt für: a) Anbieter, di...  \n",
       "2    (2) Für Hochrisiko-KI-Systeme, die Sicherheits...  \n",
       "3    (3) Diese Verordnung gilt nicht für KI-Systeme...  \n",
       "4    (4) Diese Verordnung gilt weder für Behörden i...  \n",
       "..                                                 ...  \n",
       "284  (6) Bei den in den Absätzen 1 und 4 genannten ...  \n",
       "285  (7) Die Kommission legt erforderlichenfalls ge...  \n",
       "286  (1) Diese Verordnung tritt am zwanzigsten Tag ...  \n",
       "287  (2) Diese Verordnung gilt ab dem [24 Monate na...  \n",
       "288  (3) Abweichend von Absatz 2 gilt Folgendes: a)...  \n",
       "\n",
       "[289 rows x 4 columns]"
      ]
     },
     "execution_count": 11,
     "metadata": {},
     "output_type": "execute_result"
    }
   ],
   "source": [
    "# importanto o ki, que foi feito na mao:\n",
    "\n",
    "# Abre o arquivo Excel\n",
    "p = folder + '/eu_regulation_ki.xlsx'\n",
    "df_ki = pd.read_excel(p, sheet_name='Tabelle1')\n",
    "\n",
    "# Remove as tabulações e quebras de linha\n",
    "df_ki['text'] = df_ki['text'].apply(lambda x: re.sub(r'[\\t\\n]', ' ', x))\n",
    "\n",
    "\n",
    "df_ki"
   ]
  },
  {
   "cell_type": "code",
   "execution_count": 13,
   "metadata": {},
   "outputs": [],
   "source": [
    "df = pd.concat([df, df_ki])"
   ]
  },
  {
   "cell_type": "code",
   "execution_count": 17,
   "metadata": {},
   "outputs": [],
   "source": [
    "df = df[['gesetzt', 'artikel', 'absatz', 'text']]"
   ]
  },
  {
   "cell_type": "code",
   "execution_count": 18,
   "metadata": {},
   "outputs": [],
   "source": [
    "df = df.reset_index()"
   ]
  },
  {
   "cell_type": "code",
   "execution_count": 14,
   "metadata": {},
   "outputs": [
    {
     "name": "stdout",
     "output_type": "stream",
     "text": [
      "{'Data Act', 'eu_timber_regulation', 'Europäisches Klimagesetz', 'Daten-Governance-Rechtsakt', 'eu_digital_markets_act', 'eu_horizon', 'eu_gruene_deal_com', 'eu_land_use_change', 'eu_regulation_ai'}\n"
     ]
    }
   ],
   "source": [
    "print(set(df.gesetzt))"
   ]
  },
  {
   "cell_type": "code",
   "execution_count": 19,
   "metadata": {},
   "outputs": [],
   "source": [
    "df.to_csv('eu_laws_concatenado.csv')\n",
    "df.to_json('eu_laws_concatenado.json', orient='records')"
   ]
  }
 ],
 "metadata": {
  "kernelspec": {
   "display_name": "Python 3",
   "language": "python",
   "name": "python3"
  },
  "language_info": {
   "codemirror_mode": {
    "name": "ipython",
    "version": 3
   },
   "file_extension": ".py",
   "mimetype": "text/x-python",
   "name": "python",
   "nbconvert_exporter": "python",
   "pygments_lexer": "ipython3",
   "version": "3.10.7"
  },
  "orig_nbformat": 4,
  "vscode": {
   "interpreter": {
    "hash": "369f2c481f4da34e4445cda3fffd2e751bd1c4d706f27375911949ba6bb62e1c"
   }
  }
 },
 "nbformat": 4,
 "nbformat_minor": 2
}
