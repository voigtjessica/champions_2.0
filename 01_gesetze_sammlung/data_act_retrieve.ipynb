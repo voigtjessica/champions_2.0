{
 "cells": [
  {
   "cell_type": "markdown",
   "metadata": {},
   "source": [
    "# Retrieving Data Act\n",
    "\n",
    "This code is made for EU laws printed in pdf"
   ]
  },
  {
   "cell_type": "code",
   "execution_count": 1,
   "metadata": {},
   "outputs": [],
   "source": [
    "import pdfminer\n",
    "# pip3 install pdfminer.six\n",
    "from pdfminer.high_level import extract_text\n",
    "import re\n",
    "import numpy as np\n",
    "import pandas as pd\n",
    "import PyPDF2 as pdf2\n",
    "from PyPDF2 import PdfFileReader"
   ]
  },
  {
   "cell_type": "code",
   "execution_count": 2,
   "metadata": {},
   "outputs": [],
   "source": [
    "file = open(r'C:\\Users\\JVoigt\\OneDrive - Universität für Weiterbildung Krems\\Dokumente\\Python Scripts\\champI4.0ns\\gesetze_pdf\\data_act.pdf', 'rb')\n",
    "pdf = pdf2.PdfFileReader(file)\n",
    "totalpages = pdf.numPages                                           #certo\n",
    "\n",
    "#Ich weiß schon, dass die gesetz am Seite 46 begginnt\n",
    "\n",
    "law = str()\n",
    "\n",
    "for p in range(46,totalpages):\n",
    "        page = pdf.getPage(p)\n",
    "        \n",
    "        text = page.extractText()\n",
    "        law = law + text                                           #importou tudo\n",
    "\n",
    "# Criando uma lista com todos os artigos separados:\n",
    "law_art = re.split(r'(Artikel\\s\\d{1,3}\\s\\n)', law)          # even position = text / odd position = article number"
   ]
  },
  {
   "cell_type": "markdown",
   "metadata": {},
   "source": [
    "O texto da lei as vezes contem ```Artikel\\s\\d{1,3}\\s\\n``` , o que o meu códio entendeu como se fosse um artigo novo. Eu tentei automatizar a correcao desses erros, mas infelizmente eu nao consegui fazer isso de forma satisfatória. Por questao de tempo, eu vou corrigir na mao:\n",
    "As posicoes sao 35, 39 e 45"
   ]
  },
  {
   "cell_type": "code",
   "execution_count": 3,
   "metadata": {},
   "outputs": [],
   "source": [
    "# Corrigindo na mao:\n",
    "\n",
    "posicoes = [45, 39, 35]\n",
    "\n",
    "for i in posicoes:\n",
    "    law_art[i-1] = law_art[i-1] + \" \" + law_art[i] + \" \" + law_art[i+1]\n",
    "\n",
    "#dropando de trás pra frente, pra nao influenciar as outras posicoes\n",
    "for i in posicoes:\n",
    "    del law_art[i+1]\n",
    "    del law_art[i]"
   ]
  },
  {
   "cell_type": "code",
   "execution_count": 4,
   "metadata": {},
   "outputs": [],
   "source": [
    "gesetzt = 'Data Act'\n",
    "df_law_art = pd.DataFrame(columns = ['gesetzt', 'artikel', 'absatz', 'text'])\n",
    "\n",
    "# Selecionando só as posicoes ímpares (que sao os enunciados dos artigos):\n",
    "\n",
    "artigos = []\n",
    "\n",
    "for i in range(1,len(law_art)):\n",
    "    if(i%2!=0):\n",
    "        artigos.append(i)\n",
    "\n",
    "#Esse aqui é o loop para fazer o DF final\n",
    "\n",
    "for i in artigos:\n",
    "    art_num = re.sub(r'Artikel\\s',\"\",law_art[i])   # pegando o próximo enunciado de artigo\n",
    "    text = law_art[i+1]                            # acha o texto na próxima posicao\n",
    "    \n",
    "    if bool(re.search('\\(\\d{1,3}\\)\\s', text)):                 # se achar (num) (Absatz) \n",
    "        law_abs = re.split(r'\\(\\d{1,3}\\)\\s', text)    #divide os números dos absatz\n",
    "        \n",
    "        for abs in range(1,len(law_abs)):\n",
    "            df_temp = pd.DataFrame({'gesetzt' : [gesetzt],'artikel' : [art_num],'absatz' : [abs],'text': [law_abs[abs]]} )\n",
    "            df_law_art = pd.concat([df_law_art, df_temp])\n",
    "    \n",
    "    else:                                               # Se ele nao acha absatz:\n",
    "        df_temp = pd.DataFrame({'gesetzt' : [gesetzt],'artikel' : [art_num],'absatz' : ['NA'],'text': [text]} )\n",
    "        df_law_art = pd.concat([df_law_art, df_temp])"
   ]
  },
  {
   "cell_type": "code",
   "execution_count": 6,
   "metadata": {},
   "outputs": [],
   "source": [
    "#Salvando o banco com esse artigo:\n",
    "\n",
    "df_law_art.to_csv(\"eu_data_act.csv\")"
   ]
  },
  {
   "cell_type": "markdown",
   "metadata": {},
   "source": [
    "Para cada linha do banco, se a coluna Absatz estiver escrito concatenar, pegue o texto e concatene com o texto anterior. Se nao, continue."
   ]
  }
 ],
 "metadata": {
  "kernelspec": {
   "display_name": "Python 3.10.7 64-bit",
   "language": "python",
   "name": "python3"
  },
  "language_info": {
   "codemirror_mode": {
    "name": "ipython",
    "version": 3
   },
   "file_extension": ".py",
   "mimetype": "text/x-python",
   "name": "python",
   "nbconvert_exporter": "python",
   "pygments_lexer": "ipython3",
   "version": "3.10.7 (tags/v3.10.7:6cc6b13, Sep  5 2022, 14:08:36) [MSC v.1933 64 bit (AMD64)]"
  },
  "orig_nbformat": 4,
  "vscode": {
   "interpreter": {
    "hash": "369f2c481f4da34e4445cda3fffd2e751bd1c4d706f27375911949ba6bb62e1c"
   }
  }
 },
 "nbformat": 4,
 "nbformat_minor": 2
}
