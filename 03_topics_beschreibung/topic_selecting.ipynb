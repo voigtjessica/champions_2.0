{
 "cells": [
  {
   "attachments": {},
   "cell_type": "markdown",
   "metadata": {},
   "source": [
    "# Topics beschreibung\n",
    "\n",
    "Now that we selected the models, I'll gather all the models in a xlsx file, which we will use to describe the topics based in the best fit (already plotted in the other document).\n",
    "\n",
    "- Fazer um documento com o topic coherence dos modelos selecionados"
   ]
  },
  {
   "cell_type": "code",
   "execution_count": 19,
   "metadata": {},
   "outputs": [
    {
     "name": "stderr",
     "output_type": "stream",
     "text": [
      "c:\\python310\\lib\\site-packages\\pandas\\util\\_decorators.py:211: FutureWarning: the 'encoding' keyword is deprecated and will be removed in a future version. Please take steps to stop the use of 'encoding'\n",
      "  return func(*args, **kwargs)\n",
      "c:\\python310\\lib\\site-packages\\pandas\\util\\_decorators.py:211: FutureWarning: the 'encoding' keyword is deprecated and will be removed in a future version. Please take steps to stop the use of 'encoding'\n",
      "  return func(*args, **kwargs)\n",
      "c:\\python310\\lib\\site-packages\\pandas\\util\\_decorators.py:211: FutureWarning: the 'encoding' keyword is deprecated and will be removed in a future version. Please take steps to stop the use of 'encoding'\n",
      "  return func(*args, **kwargs)\n",
      "c:\\python310\\lib\\site-packages\\pandas\\util\\_decorators.py:211: FutureWarning: the 'encoding' keyword is deprecated and will be removed in a future version. Please take steps to stop the use of 'encoding'\n",
      "  return func(*args, **kwargs)\n",
      "c:\\python310\\lib\\site-packages\\pandas\\util\\_decorators.py:211: FutureWarning: the 'encoding' keyword is deprecated and will be removed in a future version. Please take steps to stop the use of 'encoding'\n",
      "  return func(*args, **kwargs)\n",
      "c:\\python310\\lib\\site-packages\\pandas\\util\\_decorators.py:211: FutureWarning: the 'encoding' keyword is deprecated and will be removed in a future version. Please take steps to stop the use of 'encoding'\n",
      "  return func(*args, **kwargs)\n",
      "c:\\python310\\lib\\site-packages\\pandas\\util\\_decorators.py:211: FutureWarning: the 'encoding' keyword is deprecated and will be removed in a future version. Please take steps to stop the use of 'encoding'\n",
      "  return func(*args, **kwargs)\n",
      "c:\\python310\\lib\\site-packages\\pandas\\util\\_decorators.py:211: FutureWarning: the 'encoding' keyword is deprecated and will be removed in a future version. Please take steps to stop the use of 'encoding'\n",
      "  return func(*args, **kwargs)\n"
     ]
    }
   ],
   "source": [
    "## Files and model examples:\n",
    "\n",
    "# Eu Daten KI\n",
    "# 20,0,25,15,3\n",
    "#\"extra_df_examples_models_eu_daten_ki_.csv\"\n",
    "\n",
    "# AT_regierung\n",
    "# 5,0.25,25,6\n",
    "# \"extra_df_examples_models_at_regierung_.csv\"\n",
    "\n",
    "#AT KI\n",
    "#10 , 0.25, 25, 6\n",
    "# \"df_examples_models_AT_daten_ki.csv\"\n",
    "\n",
    "#AT timber\n",
    "#7 , 0.1, 10 , 2\n",
    "# \"extra_df_examples_models_at_timber_.csv\"\n",
    "\n",
    "#DE Daten KI\n",
    "# 7. 0.0 , 20 , 5\n",
    "# \"df_examples_models_de_daten_ki_.csv\"\n",
    "\n",
    "#DE regierung\n",
    "# 7, 0.0 , 10 , 2\n",
    "# \"df_examples_models_de_regierung_.csv\"\n",
    "\n",
    "#DE timber\n",
    "#7, 0.1 , 20 , 5\n",
    "# \"df_examples_models_de_timber_kl_.csv\"\n",
    "\n",
    "#EU timber \n",
    "#20, 0.25 , 10 , 2\n",
    "# \"extra_df_examples_models_eu_timber_.csv\"\n",
    "\n",
    "import pandas as pd\n",
    "\n",
    "p = \"C:\\\\Users\\\\JVoigt\\\\OneDrive - Universität für Weiterbildung Krems\\\\Dokumente\\\\Python Scripts\\\\champions_2.0\\\\02_parameter_choosing\\\\\"\n",
    "\n",
    "docs = [\"extra_df_examples_models_eu_daten_ki_.csv\", \"extra_df_examples_models_at_regierung_.csv\", \"df_examples_models_AT_daten_ki.csv\", \"extra_df_examples_models_at_timber_.csv\", \"df_examples_models_de_daten_ki_.csv\", \"df_examples_models_de_regierung_.csv\",\n",
    "        \"df_examples_models_de_timber_kl_.csv\", \"extra_df_examples_models_eu_timber_.csv\"]\n",
    "\n",
    "parameters = ['(20, 0.25, 15, 3)', '(5.0, 0.25, 25, 6)', '(10.0, 0.25, 25, 6)', '(7.0, 0.1, 10, 2)', '(7.0, 0.0, 20, 5)', '(7.0, 0.0, 10, 2)', '(7.0, 0.1, 20, 5)', '(20.0, 0.25, 10, 2)']\n",
    "\n",
    "name = [\"Eu_Daten_KI\", \"AT_regierung\", \"AT_KI\", \"AT_timber\", \"DE_Daten KI\", \"DE_regierung\", \"DE_timber\", \"EU_timber \"]\n",
    "\n",
    "for i in range(0,len(docs)):\n",
    "\n",
    "    doc = p + docs[i]\n",
    "    df = pd.read_csv(doc, sep=\";\")\n",
    "\n",
    "    model = \"model == '\" + parameters[i] + \"'\"\n",
    "    df = (df.query(model).sort_values(by='Topic'))\n",
    "\n",
    "    file_name = name[i] + \".xlsx\"\n",
    "\n",
    "    globals()[name[i]] = df\n",
    "\n",
    "    df.to_excel(file_name, index = False, encoding= \"UTF-8\")\n"
   ]
  }
 ],
 "metadata": {
  "kernelspec": {
   "display_name": "Python 3",
   "language": "python",
   "name": "python3"
  },
  "language_info": {
   "codemirror_mode": {
    "name": "ipython",
    "version": 3
   },
   "file_extension": ".py",
   "mimetype": "text/x-python",
   "name": "python",
   "nbconvert_exporter": "python",
   "pygments_lexer": "ipython3",
   "version": "3.10.7"
  },
  "orig_nbformat": 4,
  "vscode": {
   "interpreter": {
    "hash": "369f2c481f4da34e4445cda3fffd2e751bd1c4d706f27375911949ba6bb62e1c"
   }
  }
 },
 "nbformat": 4,
 "nbformat_minor": 2
}
